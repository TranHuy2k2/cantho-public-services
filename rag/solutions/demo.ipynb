{
 "cells": [
  {
   "cell_type": "code",
   "execution_count": null,
   "metadata": {},
   "outputs": [],
   "source": [
    "! pip install openai"
   ]
  },
  {
   "cell_type": "code",
   "execution_count": 1,
   "metadata": {},
   "outputs": [],
   "source": [
    "from langchain_community.document_transformers import (\n",
    "    LongContextReorder,\n",
    ")\n",
    "from langchain.vectorstores import Chroma\n",
    "from langchain.text_splitter import RecursiveCharacterTextSplitter, CharacterTextSplitter\n",
    "from langchain.document_loaders import TextLoader\n",
    "from langchain.embeddings import HuggingFaceEmbeddings\n",
    "from langchain.storage import InMemoryStore\n",
    "from langchain.retrievers.document_compressors import CohereRerank\n",
    "import os\n",
    "from dotenv import load_dotenv\n",
    "import cohere"
   ]
  },
  {
   "cell_type": "code",
   "execution_count": 2,
   "metadata": {},
   "outputs": [
    {
     "name": "stderr",
     "output_type": "stream",
     "text": [
      "/home/tranhuy/Desktop/Project/cantho-public-services/.venv/lib/python3.10/site-packages/tqdm/auto.py:21: TqdmWarning: IProgress not found. Please update jupyter and ipywidgets. See https://ipywidgets.readthedocs.io/en/stable/user_install.html\n",
      "  from .autonotebook import tqdm as notebook_tqdm\n"
     ]
    }
   ],
   "source": [
    "load_dotenv()\n",
    "COHERE_API_KEY = os.getenv(\"COHERE_API_KEY\")\n",
    "HF_EMBEDDING = HuggingFaceEmbeddings(model_name=\"keepitreal/vietnamese-sbert\")\n",
    "vectorstore = Chroma(persist_directory=\"./data\" ,embedding_function=HF_EMBEDDING)\n",
    "retriever =vectorstore.as_retriever()"
   ]
  },
  {
   "cell_type": "code",
   "execution_count": 3,
   "metadata": {},
   "outputs": [
    {
     "name": "stdout",
     "output_type": "stream",
     "text": [
      "{'text': 'Cần chuẩn bị các hồ sơ sau đây và nộp tại Không có thông tin với thủ tục hành chính Chuyển mục đích sử dụng đất phải được phép của cơ quan nhà nước có thẩm quyền đối với tổ chức:\\n1. Đơn xin phép chuyển mục đích sử dụng đất: cần 1 bản chính và 0 bản sao.. Mẫu đơn cho hồ sơ này có thể tìm thấy tại https://csdl.dichvucong.gov.vn/web/jsp/download_file.jsp?ma=3fe0dbd541e865b9\\n2. Giấy chứng nhận quyền sử dụng đất hoặc Giấy chứng nhận quyền sở hữu nhà ở và quyền sử dụng đất ở hoặc Giấy chứng nhận quyền sử dụng đất, quyền sở hữu nhà ở và tài sản khác gắn liền với đất.: cần 1 bản chính và 0 bản sao.. Mẫu đơn cho hồ sơ này có thể tìm thấy tại \\n3. Văn bản thẩm định điều kiện cho phép chuyển mục đích sử dụng đất đối với trường hợp chuyển mục đích sử dụng đất để thực hiện dự án đầu tư xây dựng nhà ở để bán hoặc để cho thuê hoặc để bán kết hợp cho thuê theo quy định của pháp luật về nhà ở; dự án đầu tư kinh doanh bất động sản gắn với quyền sử dụng đất theo quy định của pháp luật về kinh doanh bất động sản; dự án sản xuất, kinh doanh không sử dụng vốn từ ngân sách nhà nước: cần 1 bản chính và 0 bản sao.. Mẫu đơn cho hồ sơ này có thể tìm thấy tại'}\n",
      "{'text': 'Thủ tục hành chính tên Đăng ký, cấp Giấy chứng nhận quyền sử dụng đất, quyền sở hữu nhà ở và tài sản khác gắn liền với đất đối với trường hợp đã chuyển quyền sử dụng đất trước ngày 01 tháng 7 năm 2014 mà bên chuyển quyền đã được cấp Giấy chứng nhận nhưng chưa thực hiện thủ tục chuyển quyền theo quy định (đã thành lập) với mã 1.002993.000.00.00.H13 có các thông tin về  tên, số quyết định, cấp thực hiện, loại thủ tục và lĩnh vực như sau:\\nThủ tục hành chính với mã thủ tục là 1.002993.000.00.00.H13 có tên là Đăng ký, cấp Giấy chứng nhận quyền sử dụng đất, quyền sở hữu nhà ở và tài sản khác gắn liền với đất đối với trường hợp đã chuyển quyền sử dụng đất trước ngày 01 tháng 7 năm 2014 mà bên chuyển quyền đã được cấp Giấy chứng nhận nhưng chưa thực hiện thủ tục chuyển quyền theo quy định (đã thành lập) được ban hành theo quyết định số 1593/QĐ-UBND, thủ tục hành chính này được thực hiện ở các cấp: Cấp Tỉnh. Nó thuộc loại thủ tục là TTHC được luật giao cho địa phương quy định hoặc quy định chi tiết (TTHC đặc thù của địa phương) và thuộc lĩnh vực Đất đai.\\n\\nThủ tục hành chính tên Đăng ký, cấp Giấy chứng nhận quyền sử dụng đất, quyền sở hữu nhà ở và tài sản khác gắn liền với đất đối với trường hợp đã chuyển quyền sử dụng đất trước ngày 01 tháng 7 năm 2014 mà bên chuyển quyền đã được cấp Giấy chứng nhận nhưng chưa thực hiện thủ tục chuyển quyền theo quy định (đã thành lập) với mã 1.002993.000.00.00.H13 được thực hiện theo trình tự thực hiện như sau:\\n(1) Người sử dụng đất nộp hồ sơ tại Văn phòng đăng ký đất đai hoặc cơ quan tiếp nhận hồ sơ theo quy định của Ủy ban nhân dân tỉnh, thành phố trực thuộc Trung ương.Hộ gia đình, cá nhân, cộng đồng dân cư nộp hồ sơ tại Ủy ban nhân dân cấp xã nếu có nhu cầu.Trường hợp nhận hồ sơ chưa đầy đủ, chưa hợp lệ thì trong thời gian tối đa 03 ngày, cơ quan tiếp nhận, xử lý hồ sơ phải thông báo và hướng dẫn người nộp hồ sơ bổ sung, hoàn chỉnh hồ sơ theo quy định.    (2) Cơ quan tiếp nhận hồ sơ có trách nhiệm ghi đầy đủ thông tin vào Sổ tiếp nhận hồ sơ và trả kết quả và trao Phiếu tiếp nhận hồ sơ và trả kết quả cho người nộp hồ sơ.    (3) Văn phòng đăng ký đất đai thông báo bằng văn bản cho bên chuyển quyền và niêm yết tại trụ sở Ủy ban nhân dân cấp xã nơi có đất về việc làm thủ tục cấp Giấy chứng nhận quyền sử dụng đất, quyền sở hữu nhà ở và tài sản khác gắn liền với đất cho người nhận chuyển quyền.- Trường hợp không rõ địa chỉ của người chuyển quyền để thông báo thì phải đăng tin trên phương tiện thông tin đại chúng của địa phương ba số liên tiếp.- Sau thời hạn 30 ngày, kể từ ngày thông báo hoặc đăng tin lần đầu tiên trên phương tiện thông tin đại chúng của địa phương mà không có đơn đề nghị giải quyết tranh chấp thì Văn phòng đăng ký đất đai lập hồ sơ để trình cơ quan có thẩm quyền quyết định hủy Giấy chứng nhận đã cấp đối với trường hợp không nộp Giấy chứng nhận để làm thủ tục đồng thời cấp Giấy chứng nhận quyền sử dụng đất, quyền sở hữu nhà ở và tài sản khác gắn liền với đất mới cho bên nhận chuyển quyền.Trường hợp có đơn đề nghị giải quyết tranh chấp thì Văn phòng đăng ký đất đai hướng dẫn các bên nộp đơn đến cơ quan nhà nước có thẩm quyền giải quyết tranh chấp theo quy định.\\n\\nCó những cách thức thực hiện sau để thực hiện thủ tục hành chính Đăng ký, cấp Giấy chứng nhận quyền sử dụng đất, quyền sở hữu nhà ở và tài sản khác gắn liền với đất đối với trường hợp đã chuyển quyền sử dụng đất trước ngày 01 tháng 7 năm 2014 mà bên chuyển quyền đã được cấp Giấy chứng nhận nhưng chưa thực hiện thủ tục chuyển quyền theo quy định (đã thành lập):\\n- Với hình thức Trực tiếp, thời gian giải quyết sẽ là 10 (Ngày). Cách thức thực hiện này sẽ có mô tả như sau: Do Ủy ban nhân dân cấp tỉnh quy định nhưng không quá 10 ngày kể từ ngày nhận được hồ sơ hợp lệ. Thời gian này không tính thời gian các ngày nghỉ, ngày lễ theo quy định của pháp luật; không tính thời gian tiếp nhận hồ sơ tại xã, thời gian thực hiện nghĩa vụ tài chính của người sử dụng đất; không tính thời gian xem xét xử lý đối với trường hợp sử dụng đất có vi phạm pháp luật, thời gian trưng cầu giám định.  Đối với các xã miền núi, hải đảo, vùng sâu, vùng xa, vùng có điều kiện kinh tế - xã hội khó khăn, vùng có điều kiện kinh tế - xã hội đặc biệt khó khăn thì thời gian thực hiện được tăng thêm 10 ngày.  Kết quả giải quyết thủ tục hành chính phải trả cho người sử dụng đất, chủ sở hữu tài sản gắn liền với đất trong thời hạn không quá 03 ngày làm việc kể từ ngày có kết quả giải quyết.\\n\\nCần chuẩn bị các hồ sơ sau đây và nộp tại Không có thông tin với thủ tục hành chính Đăng ký, cấp Giấy chứng nhận quyền sử dụng đất, quyền sở hữu nhà ở và tài sản khác gắn liền với đất đối với trường hợp đã chuyển quyền sử dụng đất trước ngày 01 tháng 7 năm 2014 mà bên chuyển quyền đã được cấp Giấy chứng nhận nhưng chưa thực hiện thủ tục chuyển quyền theo quy định (đã thành lập):\\n- Ghi chú: - Trường hợp nhận chuyển nhượng, nhận tặng cho quyền sử dụng đất nhưng không lập hợp đồng, văn bản chuyển quyền theo quy định, hồ sơ gồm có:\\n2. + Bản gốc Giấy chứng nhận đã cấp;: cần 1 bản chính và 0 bản sao.. Mẫu đơn cho hồ sơ này có thể tìm thấy tại \\n3. + Đơn đăng ký biến động đất đai, tài sản gắn liền với đất theo Mẫu số 09/ĐK;: cần 1 bản chính và 0 bản sao.. Mẫu đơn cho hồ sơ này có thể tìm thấy tại https://csdl.dichvucong.gov.vn/web/jsp/download_file.jsp?ma=3fd41cf53d2365fc\\n4. + Giấy tờ về việc chuyển quyền sử dụng đất, tài sản gắn liền với đất có đủ chữ ký của bên chuyển quyền và bên nhận chuyển quyền.: cần 1 bản chính và 0 bản sao.. Mẫu đơn cho hồ sơ này có thể tìm thấy tại \\n- Ghi chú: - Đối với trường hợp thực hiện thủ tục đăng ký biến động đất đai, tài sản gắn liền với đất  mà có thay đổi thông tin về pháp nhân, số Giấy chứng minh nhân dân, số thẻ Căn cước công dân, địa chỉ trên Giấy chứng nhận đã cấp thì người sử dụng đất nộp thêm các giấy tờ sau đây:\\n6. + Bản sao Giấy chứng minh nhân dân mới hoặc Giấy chứng minh quân đội mới hoặc thẻ Căn cước công dân mới hoặc sổ hộ khẩu, giấy tờ khác chứng minh thay đổi nhân thân đối với trường hợp thay đổi thông tin về nhân thân của người có tên trên Giấy chứng nhận; Trường hợp dữ liệu quốc gia về dân cư được chia sẻ và kết nối với dữ liệu của các ngành, các lĩnh vực (trong đó có lĩnh vực đất đai) thì cơ quan tiếp nhận hồ sơ sử dụng dữ liệu từ cơ sở dữ liệu quốc gia về dân cư mà không yêu cầu người nộp hồ sơ phải nộp bản sao Giấy chứng minh nhân dân hoặc Giấy chứng minh quân đội hoặc thẻ Căn cước công dân hoặc sổ hộ khẩu hoặc giấy tờ khác để chứng minh nhân thân.: cần 0 bản chính và 1 bản sao.. Mẫu đơn cho hồ sơ này có thể tìm thấy tại \\n7. + Văn bản của cơ quan có thẩm quyền cho phép hoặc công nhận việc thay đổi thông tin pháp nhân đối với trường hợp thay đổi thông tin về pháp nhân của tổ chức đã ghi trên Giấy chứng nhận.: cần 1 bản chính và 0 bản sao.. Mẫu đơn cho hồ sơ này có thể tìm thấy tại \\n- Ghi chú: - Trường hợp nhận chuyển nhượng, nhận thừa kế, nhận tặng cho quyền sử dụng đất, tài sản gắn liền với đất mà có hợp đồng hoặc văn bản về chuyển quyền theo quy định nhưng bên chuyển quyền không trao Giấy chứng nhận cho bên nhận chuyển quyền, hồ sơ gồm:\\n9. + Đơn đăng ký biến động đất đai, tài sản gắn liền với đất theo Mẫu số 09/ĐK;: cần 1 bản chính và 0 bản sao.. Mẫu đơn cho hồ sơ này có thể tìm thấy tại https://csdl.dichvucong.gov.vn/web/jsp/download_file.jsp?ma=3fe571f13547c44f\\n10. + Hợp đồng hoặc văn bản về chuyển quyền đã lập theo quy định;: cần 1 bản chính và 0 bản sao.. Mẫu đơn cho hồ sơ này có thể tìm thấy tại \\n\\nCơ quan thực hiện, ủy quyền, thẩm quyền, điều kiện thực hiện, kết quả thực hiện của thủ tục hành chính Đăng ký, cấp Giấy chứng nhận quyền sử dụng đất, quyền sở hữu nhà ở và tài sản khác gắn liền với đất đối với trường hợp đã chuyển quyền sử dụng đất trước ngày 01 tháng 7 năm 2014 mà bên chuyển quyền đã được cấp Giấy chứng nhận nhưng chưa thực hiện thủ tục chuyển quyền theo quy định (đã thành lập) như sau:\\n- Cơ quan thực hiện: Văn phòng đăng ký đất đai, Chi nhánh Văn phòng đăng ký đất đai\\n- Cơ quan thẩm quyền: Không có thông tin\\n- Cơ quan ủy quyền: Không có thông tin\\n- Cơ quan phối hợp: Sở Tài nguyên và Môi trường\\nĐể thực hiện thủ tục hành chính Đăng ký, cấp Giấy chứng nhận quyền sử dụng đất, quyền sở hữu nhà ở và tài sản khác gắn liền với đất đối với trường hợp đã chuyển quyền sử dụng đất trước ngày 01 tháng 7 năm 2014 mà bên chuyển quyền đã được cấp Giấy chứng nhận nhưng chưa thực hiện thủ tục chuyển quyền theo quy định (đã thành lập), đối tượng được phép thực hiện là Công dân Việt Nam, Người Việt Nam định cư ở nước ngoài, Doanh nghiệp, Doanh nghiệp có vốn đầu tư nước ngoài, Tổ chức (không bao gồm doanh nghiệp, HTX), và cần đảm bảo điều kiện sau đây:  Đối với trường hợp thực hiện thủ tục trên môi trường điện tử: Căn cứ điều kiện cụ thể về hạ tầng kỹ thuật công nghệ thông tin đất đai và cơ sở dữ liệu đất đai đang quản lý, cơ quan tiếp nhận hồ sơ và trả kết quả giải quyết thủ tục hành chính về đất đai quy định tại Điều 60 của Nghị định số 43/2014/NĐ-CP ngày 15/5/2014 của Chính phủ quy định chi tiết thi hành một số điều của Luật Đất đai (được sửa đổi, bổ sung tại khoản 7 Điều 1 của Nghị định số 10/2023/NĐ-CP ngày 03/4/2023 sửa đổi, bổ sung một số điều của các nghị định hướng dẫn thi hành Luật Đất đai) có trách nhiệm tổ chức việc tiếp nhận hồ sơ và trả kết quả giải quyết thủ tục hành chính trên môi trường điện tử theo quy định của Chính phủ.. Hồ sơ cần được nộp tại Không có thông tin. Sau khi thực hiện thủ tục, kết quả sẽ là Giấy chứng nhận quyền sử dụng đất quyền sở hữu nhà ở và tài sản khác gắn liền với đất tài sản khác gắn liền với đất\\n\\nThủ tục hành chính Đăng ký, cấp Giấy chứng nhận quyền sử dụng đất, quyền sở hữu nhà ở và tài sản khác gắn liền với đất đối với trường hợp đã chuyển quyền sử dụng đất trước ngày 01 tháng 7 năm 2014 mà bên chuyển quyền đã được cấp Giấy chứng nhận nhưng chưa thực hiện thủ tục chuyển quyền theo quy định (đã thành lập) có trích dẫn pháp luật, căn cứ pháp lý dựa vào các văn bản pháp luật như sau:\\n1. Số ký hiệu 01/2017/NĐ-CP, có trích yếu là Nghị định 01/2017/NĐ-CP ngày 06 tháng 01 năm 2014 của Chính phủ sửa đổi, bổ sung một số nghị định quy định chi tiết thi hành Luật Đất đai, được ban hành từ ngày 2017-01-06. Cơ quan ban hành là chưa rõ\\n2. Số ký hiệu 45/2013/QH13, có trích yếu là Luật 45/2013/QH13, được ban hành từ ngày 2014-01-02. Cơ quan ban hành là chưa rõ\\n3. Số ký hiệu 02/2014/TT-BTC, có trích yếu là Thông tư số 02/2014/TT-BTC ngày 02/01/2014 của Bộ trưởng Bộ Tài chính hướng dẫn về phí và lệ phí thuộc thẩm quyền quyết định của HĐND tỉnh, thành phố trực thuộc Trung ương, được ban hành từ ngày 2014-01-02. Cơ quan ban hành là chưa rõ\\n4. Số ký hiệu 43/2014/NĐ-CP, có trích yếu là Nghị định 43/2014/NĐ-CP ngày 15 tháng 5 năm 2014 của Chính phủ, được ban hành từ ngày 2014-05-15. Cơ quan ban hành là chưa rõ\\n5. Số ký hiệu 23/2014/TT-BTNMT, có trích yếu là Thông tư số 23/2014/TT-BTNMT ngày 19 tháng 5 năm 2014 của Bộ trưởng Bộ Tài nguyên và Môi trường quy định về giấy chứng nhận quyền sử dụng đất, quyền sở hữu nhà ở và tài sản khác gắn liền với đất, được ban hành từ ngày 2014-05-19. Cơ quan ban hành là chưa rõ\\n6. Số ký hiệu 24/2014/TT-BTNMT, có trích yếu là Thông tư số 24/2014/TT-BTNMT ngày 19 tháng 5 năm 2014 của Bộ trưởng Bộ Tài nguyên và Môi trường quy định về hồ sơ địa chính, được ban hành từ ngày 2014-05-19. Cơ quan ban hành là chưa rõ\\n7. Số ký hiệu 33/2017/TT-BTNMT, có trích yếu là Thông tư số 33/2017/TT-BTNMT ngày 29/9/2017 của Bộ trưởng Bộ Tài nguyên và Môi trường quy định chi tiết Nghị định số 01/2017/NĐ-CP ngày 06 tháng 01 năm 2017 của Chính phủ sửa đổi, bổ sung một số nghị định quy định chi tiết thi hành Luật Đất đai và sửa đổi, bổ sung một số điều của các thông tư hướng dẫn thi hành Luật Đất đai, được ban hành từ ngày 2017-09-29. Cơ quan ban hành là chưa rõ'}\n",
      "{'text': 'Thủ tục hành chính tên Đăng ký, cấp Giấy chứng nhận quyền sử dụng đất, quyền sở hữu nhà ở và tài sản khác gắn liền với đất đối với trường hợp đã chuyển quyền sử dụng đất trước ngày 01 tháng 7 năm 2014 mà bên chuyển quyền đã được cấp Giấy chứng nhận nhưng chưa thực hiện thủ tục chuyển quyền theo quy định (đã thành lập) với mã 1.002993.000.00.00.H13 có các thông tin về  tên, số quyết định, cấp thực hiện, loại thủ tục và lĩnh vực như sau:\\nThủ tục hành chính với mã thủ tục là 1.002993.000.00.00.H13 có tên là Đăng ký, cấp Giấy chứng nhận quyền sử dụng đất, quyền sở hữu nhà ở và tài sản khác gắn liền với đất đối với trường hợp đã chuyển quyền sử dụng đất trước ngày 01 tháng 7 năm 2014 mà bên chuyển quyền đã được cấp Giấy chứng nhận nhưng chưa thực hiện thủ tục chuyển quyền theo quy định (đã thành lập) được ban hành theo quyết định số 1593/QĐ-UBND, thủ tục hành chính này được thực hiện ở các cấp: Cấp Tỉnh. Nó thuộc loại thủ tục là TTHC được luật giao cho địa phương quy định hoặc quy định chi tiết (TTHC đặc thù của địa phương) và thuộc lĩnh vực Đất đai.'}\n"
     ]
    },
    {
     "data": {
      "text/plain": [
       "'Để chuyển quyền sử dụng đất cho con, bạn cần làm thủ tục chuyển nhượng đất như sau:\\n\\n1. Chuẩn bị hồ sơ:\\n   - Giấy chứng nhận quyền sử dụng đất hoặc Giấy chứng nhận quyền sở hữu nhà ở và quyền sử dụng đất ở hoặc Giấy chứng nhận quyền sử dụng đất, quyền sở hữu nhà ở và tài sản khác gắn liền với đất (1 bản chính và 0 bản sao).\\n   - Đơn xin chuyển nhượng quyền sử dụng đất (mẫu đơn có thể tìm thấy tại https://csdl.dichvucong.gov.vn/web/jsp/download_file.jsp?ma=3fe0dbd541e865b9) (1 bản chính và 0 bản sao).\\n   - Các giấy tờ tùy theo quy định của cơ quan địa phương (ví dụ: chứng minh nhân dân, sổ hộ khẩu, văn bản từ chối chuyển nhượng của các chủ thể có quyền ưu tiên mua, v.v.).\\n\\n2. Nộp hồ sơ:\\n   - Mang hồ sơ đầy đủ đi nộp tại cơ quan nhà nước có thẩm quyền ở Cần Thơ, chẳng hạn Sở Tài nguyên và Môi trường, Phòng Tài nguyên và Môi trường phụ trách địa phương.\\n   - Nếu hồ sơ hợp lệ, bạn sẽ nhận được biên nhận và số đăng ký hồ sơ.\\n\\n3. Xem xét và thông báo kết quả:\\n   - Cơ quan nhà nước sẽ xem xét hồ sơ và tiến hành kiểm tra thực tế.\\n   - Sau khi xem xét, cơ quan nhà nước sẽ ra thông báo kết quả cho bạn.\\n\\n4. Thu chi phí:\\n   - Nếu chuyển nhượng quyền sử dụng đất được chấp thuận, bạn sẽ phải thanh toán các khoản phí và lệ phí cho cơ quan nhà nước theo quy định.\\n\\n5. Nhận giấy chứng nhận:\\n   - Sau khi hoàn tất các thủ tục và thanh toán phí, bạn sẽ nhận được giấy chứng nhận chuyển nhượng quyền sử dụng đất cho con.\\n\\nLưu ý: Thủ tục chuyển nhượng quyền sử dụng đất có thể được điều chỉnh theo các quy định cụ thể của địa phương, vì vậy, bạn nên liên hệ với cơ quan nhà nước có thẩm quyền để biết thêm chi tiết và hướng dẫn cụ thể.'"
      ]
     },
     "execution_count": 3,
     "metadata": {},
     "output_type": "execute_result"
    }
   ],
   "source": [
    "question = \"Muốn chuyển quyền sử dụng đất cho con thi phải làm thủ tục gì?\"\n",
    "docs = retriever.get_relevant_documents(question)\n",
    "co = cohere.Client(api_key=COHERE_API_KEY)\n",
    "\n",
    "docs = [reordered_doc.page_content for reordered_doc in docs]\n",
    "results = co.rerank(model=\"rerank-multilingual-v2.0\", query=question, documents=docs, top_n=3)\n",
    "context = \"\"\n",
    "for index, result in enumerate(results):\n",
    "    print(result.document)\n",
    "\n",
    "context = \" \".join(results[0].document[\"text\"].split(\" \")[-4096:])\n",
    "\n",
    "\n",
    "from openai import OpenAI\n",
    "client = OpenAI()\n",
    "inputs = f\" Đây là văn bản chứa thông tin, bạn có thể dùng nếu cần:\\n{context}.Hãy trả lời câu hỏi, nếu không có thông tin trong văn bản, hãy trả lời theo kiến thức của bạn về dịch vụ công ở Cần Thơ Việt Nam\"\n",
    "\n",
    "completion = client.chat.completions.create(\n",
    "model=\"gpt-3.5-turbo\",\n",
    "messages=[\n",
    "    {\"role\": \"system\", \"content\": \"Bạn là một tư vấn viên cho các dịch vụ công tại Cần Thơ Việt Nam, hãy trả lời lịch sự.\"},\n",
    "    {\"role\": \"system\", \"content\": inputs},\n",
    "    {\"role\": \"user\", \"content\": question}\n",
    "]\n",
    ")\n",
    "completion.choices[0].message.content"
   ]
  },
  {
   "cell_type": "code",
   "execution_count": 4,
   "metadata": {},
   "outputs": [],
   "source": [
    "with open(\"./answer.txt\", \"w\") as f:\n",
    "    f.write(completion.choices[0].message.content)"
   ]
  },
  {
   "cell_type": "code",
   "execution_count": null,
   "metadata": {},
   "outputs": [],
   "source": []
  },
  {
   "cell_type": "code",
   "execution_count": null,
   "metadata": {},
   "outputs": [],
   "source": []
  }
 ],
 "metadata": {
  "kernelspec": {
   "display_name": ".venv",
   "language": "python",
   "name": "python3"
  },
  "language_info": {
   "codemirror_mode": {
    "name": "ipython",
    "version": 3
   },
   "file_extension": ".py",
   "mimetype": "text/x-python",
   "name": "python",
   "nbconvert_exporter": "python",
   "pygments_lexer": "ipython3",
   "version": "3.10.12"
  }
 },
 "nbformat": 4,
 "nbformat_minor": 2
}
