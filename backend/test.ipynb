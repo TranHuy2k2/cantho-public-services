{
 "cells": [
  {
   "cell_type": "code",
   "execution_count": 1,
   "metadata": {},
   "outputs": [
    {
     "data": {
      "text/plain": [
       "'/home/tranhuy/Desktop/Project/cantho-public-services/backend'"
      ]
     },
     "execution_count": 1,
     "metadata": {},
     "output_type": "execute_result"
    }
   ],
   "source": [
    "import os \n",
    "os.getcwd()"
   ]
  },
  {
   "cell_type": "code",
   "execution_count": 2,
   "metadata": {},
   "outputs": [
    {
     "name": "stderr",
     "output_type": "stream",
     "text": [
      "/home/tranhuy/Desktop/Project/cantho-public-services/venv/lib/python3.10/site-packages/tqdm/auto.py:21: TqdmWarning: IProgress not found. Please update jupyter and ipywidgets. See https://ipywidgets.readthedocs.io/en/stable/user_install.html\n",
      "  from .autonotebook import tqdm as notebook_tqdm\n",
      "/home/tranhuy/Desktop/Project/cantho-public-services/venv/lib/python3.10/site-packages/huggingface_hub/file_download.py:1132: FutureWarning: `resume_download` is deprecated and will be removed in version 1.0.0. Downloads always resume when possible. If you want to force a new download, use `force_download=True`.\n",
      "  warnings.warn(\n",
      "/home/tranhuy/Desktop/Project/cantho-public-services/venv/lib/python3.10/site-packages/huggingface_hub/file_download.py:1132: FutureWarning: `resume_download` is deprecated and will be removed in version 1.0.0. Downloads always resume when possible. If you want to force a new download, use `force_download=True`.\n",
      "  warnings.warn(\n",
      "/home/tranhuy/Desktop/Project/cantho-public-services/venv/lib/python3.10/site-packages/torch/cuda/__init__.py:118: UserWarning: CUDA initialization: CUDA unknown error - this may be due to an incorrectly set up environment, e.g. changing env variable CUDA_VISIBLE_DEVICES after program start. Setting the available devices to be zero. (Triggered internally at ../c10/cuda/CUDAFunctions.cpp:108.)\n",
      "  return torch._C._cuda_getDeviceCount() > 0\n"
     ]
    }
   ],
   "source": [
    "from langchain.docstore.document import Document\n",
    "from langchain_core.prompts import PromptTemplate\n",
    "from rag.modules.app_vars import AppVariables\n",
    "import re"
   ]
  },
  {
   "cell_type": "code",
   "execution_count": 29,
   "metadata": {},
   "outputs": [],
   "source": [
    "template = \"\"\"Bạn là một chatbot hỗ trợ sinh các câu hỏi đồng nghĩa dựa vào câu hỏi gốc về thủ tục hành chính. Hãy tuân thủ các nguyên tắc sau khi tạo ra HAI câu hỏi đồng nghĩa:\n",
    "    - Hai câu hỏi phải đồng nghĩa và sử dụng MỘT trong bốn các cụm từ sau: 'trình tự các bước', 'cách thức thực hiện', 'hồ sơ cần', 'cơ quan thực hiện', 'điều kiện thực hiện' .\n",
    "    - Với những câu hỏi chung chung, hãy ưu tiên hỏi một câu về về 'trình tự các bước' .\n",
    "\n",
    "    Hai câu hỏi phải được phân cách bằng ký tự '\\n' . KHÔNG thêm bất kỳ ký tự nào khác ngoài hai câu hỏi được bạn tạo ra.\n",
    "    Câu hỏi gốc : {question}\n",
    "\"\"\"\n",
    "\n",
    "template2 = \"\"\"Bạn là một chatbot hỗ trợ sinh làm rõ câu hỏi của người dùng về thủ tục hành chính. Dựa vào đoạn hội thoại dưới đây, hãy viết lại câu hỏi của người dùng ngắn gọn chứa tên thủ tục hành chính nếu được.\n",
    "    KHÔNG thêm bất kỳ ký tự nào khác ngoài câu hỏi được bạn tạo ra.\n",
    "\n",
    "    ------\n",
    "    Đoạn hội thoại: {dialogue}\n",
    "    \n",
    "    ------\n",
    "    Câu hỏi từ người dùng : {question}\n",
    "\n",
    "    ------\n",
    "    Câu hỏi viết lại: \n",
    "\"\"\"\n",
    "\n",
    "prompt = PromptTemplate.from_template(template)\n",
    "\n",
    "llm_chain = prompt | AppVariables.llm\n",
    "rewrite_chain = PromptTemplate.from_template(template2) | AppVariables.llm\n",
    "\n",
    "def rewrite_question(question, messages=[]):\n",
    "    dialogue = \"\\n\"\n",
    "    for message in messages:\n",
    "        dialogue += f\"{message['role']}: {message['content']}\\n\"\n",
    "    \n",
    "    completion = rewrite_chain.invoke({\"question\": question, \"dialogue\": dialogue})\n",
    "    completion = process_question(completion)\n",
    "    return completion\n",
    "\n",
    "def reciprocal_rank_fusion(search_results_dict, k=25):\n",
    "    fused_scores = {}        \n",
    "    for query, doc_scores in search_results_dict.items():\n",
    "        for rank, (doc, score) in enumerate(sorted(doc_scores.items(), key=lambda x: x[1]['score'], reverse=True)):\n",
    "            if doc not in fused_scores:\n",
    "                fused_scores[doc] = {\n",
    "                    \"rank\": 0,\n",
    "                    \"metadata\": score[\"metadata\"]\n",
    "                }\n",
    "            fused_scores[doc][\"rank\"] += 1 / (rank + k)\n",
    "\n",
    "    reranked_results = sorted(fused_scores.items(), key=lambda x: x[1]['rank'], reverse=True)\n",
    "    reranked_results = [Document(page_content=doc[0], metadata=doc[1][\"metadata\"]) for doc in reranked_results]\n",
    "    return reranked_results\n",
    "\n",
    "def process_question(question):\n",
    "    question = question.strip()\n",
    "    question = question.split(\":\")[-1].strip()\n",
    "    question = re.sub(r'^[^a-zA-Z]*', '', question)\n",
    "    question = re.sub(r'\\W+$', '', question)\n",
    "    return question\n",
    "\n",
    "def generate_questions(question):\n",
    "    completion = llm_chain.invoke(question)\n",
    "    questions = completion.split(\"\\n\")\n",
    "\n",
    "    processed_questions = [ question ]\n",
    "    for generated_question in questions:\n",
    "        generated_question = process_question(generated_question)\n",
    "        if generated_question != \"\":\n",
    "            processed_questions.append(generated_question)\n",
    "    processed_questions = processed_questions[0:min(3, len(processed_questions))]\n",
    "    return processed_questions"
   ]
  },
  {
   "cell_type": "code",
   "execution_count": 30,
   "metadata": {},
   "outputs": [
    {
     "data": {
      "text/plain": [
       "'Cần những giấy tờ gì để đăng ký kết hôn'"
      ]
     },
     "execution_count": 30,
     "metadata": {},
     "output_type": "execute_result"
    }
   ],
   "source": [
    "from models import Message, Conversation\n",
    "\n",
    "messages = [\n",
    "    {\n",
    "        \"role\": \"user\",\n",
    "        \"content\": \"muốn làm thủ tục kết hôn cần làm gì\"\n",
    "    },\n",
    "    {\n",
    "        \"role\": \"bot\",\n",
    "        \"content\": \"Để đăng ký kết hôn, bạn cần làm theo các bước sau:\\n\\n1. Nộp hồ sơ tại Ủy ban nhân dân cấp xã có thẩm quyền.\\n2. Người tiếp nhận sẽ kiểm tra hồ sơ và đối chiếu thông tin.\\n3. Nếu hồ sơ đầy đủ, hợp lệ, người tiếp nhận sẽ viết giấy tiếp nhận.\\n4. Hồ sơ sau khi đã được hướng dẫn mà không được bổ sung đầy đủ sẽ bị từ chối.\\n5. Trong thời hạn 05 ngày làm việc, công chức tư pháp - hộ tịch sẽ kiểm tra, xác minh hồ sơ.\\n6. Nếu việc đăng ký lại kết hôn không phải tại nơi đã đăng ký trước đó, sẽ có bước kiểm tra và xác minh tại nơi đăng ký trước đó.\\n7. Sau khi hồ sơ được xác minh, nếu đủ điều kiện, sẽ được giải quyết và cấp Giấy chứng nhận kết hôn.\\n\\nĐể biết thông tin chi tiết về các giấy tờ cần nộp và thủ tục cụ thể, bạn có thể tham khảo thông tin trong các đoạn văn bản mà mình đã cung cấp .\\n\"\n",
    "    }\n",
    "]\n",
    "questions = rewrite_question(\"cần giấy tờ gì\", messages=messages)\n",
    "questions"
   ]
  },
  {
   "cell_type": "code",
   "execution_count": 32,
   "metadata": {},
   "outputs": [
    {
     "data": {
      "text/plain": [
       "[{'role': 'user', 'content': 'cần làm gì để đăng ký kết hôn'},\n",
       " {'role': 'bot',\n",
       "  'content': 'Để đăng ký kết hôn, bạn cần làm theo các bước sau:\\n\\n1. Nộp hồ sơ tại Ủy ban nhân dân cấp xã có thẩm quyền.\\n2. Người tiếp nhận sẽ kiểm tra hồ sơ và đối chiếu thông tin.\\n3. Nếu hồ sơ đầy đủ, hợp lệ, người tiếp nhận sẽ viết giấy tiếp nhận.\\n4. Hồ sơ sau khi đã được hướng dẫn mà không được bổ sung đầy đủ sẽ bị từ chối.\\n5. Trong thời hạn 05 ngày làm việc, công chức tư pháp - hộ tịch sẽ kiểm tra, xác minh hồ sơ.\\n6. Nếu việc đăng ký lại kết hôn không phải tại nơi đã đăng ký trước đó, sẽ có bước kiểm tra và xác minh tại nơi đăng ký trước đó.\\n7. Sau khi hồ sơ được xác minh, nếu đủ điều kiện, sẽ được giải quyết và cấp Giấy chứng nhận kết hôn.\\n\\nĐể biết thông tin chi tiết về các giấy tờ cần nộp và thủ tục cụ thể, bạn có thể tham khảo thông tin trong các đoạn văn bản mà mình đã cung cấp.'}]"
      ]
     },
     "execution_count": 32,
     "metadata": {},
     "output_type": "execute_result"
    }
   ],
   "source": [
    "conversation = Conversation.objects(id=\"663ae632e491cf3d60ea9e5d\").first()\n",
    "\n",
    "messages = Message.objects(conversation=conversation).order_by('created_at').limit(4)\n",
    "history = []\n",
    "for message in messages:\n",
    "    history.append({\n",
    "        \"role\": message.role,\n",
    "        \"content\": message.message\n",
    "    })\n",
    "history"
   ]
  }
 ],
 "metadata": {
  "kernelspec": {
   "display_name": "venv",
   "language": "python",
   "name": "python3"
  },
  "language_info": {
   "codemirror_mode": {
    "name": "ipython",
    "version": 3
   },
   "file_extension": ".py",
   "mimetype": "text/x-python",
   "name": "python",
   "nbconvert_exporter": "python",
   "pygments_lexer": "ipython3",
   "version": "3.10.12"
  }
 },
 "nbformat": 4,
 "nbformat_minor": 2
}
