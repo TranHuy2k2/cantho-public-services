{
 "cells": [
  {
   "cell_type": "code",
   "execution_count": 2,
   "metadata": {},
   "outputs": [
    {
     "data": {
      "text/plain": [
       "'/home/tranhuy/Desktop/Project/cantho-public-services'"
      ]
     },
     "execution_count": 2,
     "metadata": {},
     "output_type": "execute_result"
    }
   ],
   "source": [
    "import os\n",
    "os.chdir(os.path.dirname(\"../../\"))\n",
    "os.getcwd()"
   ]
  },
  {
   "cell_type": "code",
   "execution_count": 5,
   "metadata": {},
   "outputs": [],
   "source": [
    "from rag.modules.rag_facade import RAGFacade\n",
    "import json"
   ]
  },
  {
   "cell_type": "code",
   "execution_count": 8,
   "metadata": {},
   "outputs": [
    {
     "data": {
      "text/plain": [
       "[{'question': 'Cần làm gì để đăng ký kết hôn',\n",
       "  'context': ['Cần làm theo trình tự các bước sau để thực hiện thủ tục hành chính Thủ tục đăng ký kết hôn']},\n",
       " {'question': 'Mang theo giấy tờ gì để đăng ký kết hôn',\n",
       "  'context': ['Cần các hồ sơ sau đây làm thủ tục hành chính Thủ tục đăng ký kết hôn và nộp tại địa điểm nơi sau']}]"
      ]
     },
     "execution_count": 8,
     "metadata": {},
     "output_type": "execute_result"
    }
   ],
   "source": [
    "with open('rag/evaluation/test.json') as f:\n",
    "    data = json.load(f)\n",
    "    f.close()\n",
    "data[0:2]"
   ]
  },
  {
   "cell_type": "code",
   "execution_count": 13,
   "metadata": {},
   "outputs": [],
   "source": [
    "answered_questions = []\n",
    "for question in data:\n",
    "    truth_context = \"\"\n",
    "    # Retrieve the truth context\n",
    "    for padding_sentence in question['context']:\n",
    "        truth_context += RAGFacade.retrieve(padding_sentence, k=1)[0][0].metadata['full_text'] + \"\\n\\n\"\n",
    "\n",
    "    # Retrieve the answer\n",
    "    response = RAGFacade.generate_response(question['question'], context=truth_context, return_steps=False)\n",
    "    question['answer'] = response['answer']\n",
    "    answered_questions.append(question)"
   ]
  },
  {
   "cell_type": "code",
   "execution_count": 14,
   "metadata": {},
   "outputs": [],
   "source": [
    "with open('rag/evaluation/test_answered.json', 'w', encoding='utf8') as f:\n",
    "    json.dump(answered_questions, f, ensure_ascii=False, indent=4)\n",
    "    f.close()"
   ]
  }
 ],
 "metadata": {
  "kernelspec": {
   "display_name": "venv",
   "language": "python",
   "name": "python3"
  },
  "language_info": {
   "codemirror_mode": {
    "name": "ipython",
    "version": 3
   },
   "file_extension": ".py",
   "mimetype": "text/x-python",
   "name": "python",
   "nbconvert_exporter": "python",
   "pygments_lexer": "ipython3",
   "version": "3.10.12"
  }
 },
 "nbformat": 4,
 "nbformat_minor": 2
}
