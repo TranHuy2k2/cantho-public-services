{
 "cells": [
  {
   "cell_type": "markdown",
   "metadata": {},
   "source": [
    "# Reranking trong RAG\n",
    "## Lost In The Middle\n",
    "Khi LLM nhận một context quá dài và thông tin cần thiết, có liên quan đến câu hỏi nằm ở phần giữa của context đó, thì nó sẽ có xu hướng là bỏ qua văn bản đó.\n",
    "\n",
    "Nên để giải quyết việc này, cần sắp xếp thông tin có liên quan ở phía đầu và phía cuối của context (nơi mà LLM sẽ tập trung vào nhiều hơn), và đưa thông tin không liên quan vào giữa context."
   ]
  },
  {
   "cell_type": "code",
   "execution_count": 20,
   "metadata": {},
   "outputs": [
    {
     "name": "stdout",
     "output_type": "stream",
     "text": [
      "Collecting cohere\n",
      "  Downloading cohere-4.40-py3-none-any.whl.metadata (5.4 kB)\n",
      "Requirement already satisfied: aiohttp<4.0,>=3.0 in /home/tranhuy/Desktop/Project/cantho-public-services/.venv/lib/python3.10/site-packages (from cohere) (3.9.1)\n",
      "Requirement already satisfied: backoff<3.0,>=2.0 in /home/tranhuy/Desktop/Project/cantho-public-services/.venv/lib/python3.10/site-packages (from cohere) (2.2.1)\n",
      "Collecting fastavro<2.0,>=1.8 (from cohere)\n",
      "  Downloading fastavro-1.9.2-cp310-cp310-manylinux_2_17_x86_64.manylinux2014_x86_64.whl.metadata (5.5 kB)\n",
      "Requirement already satisfied: importlib_metadata<7.0,>=6.0 in /home/tranhuy/Desktop/Project/cantho-public-services/.venv/lib/python3.10/site-packages (from cohere) (6.11.0)\n",
      "Requirement already satisfied: requests<3.0.0,>=2.25.0 in /home/tranhuy/Desktop/Project/cantho-public-services/.venv/lib/python3.10/site-packages (from cohere) (2.31.0)\n",
      "Requirement already satisfied: urllib3<3,>=1.26 in /home/tranhuy/Desktop/Project/cantho-public-services/.venv/lib/python3.10/site-packages (from cohere) (1.26.18)\n",
      "Requirement already satisfied: attrs>=17.3.0 in /home/tranhuy/Desktop/Project/cantho-public-services/.venv/lib/python3.10/site-packages (from aiohttp<4.0,>=3.0->cohere) (23.2.0)\n",
      "Requirement already satisfied: multidict<7.0,>=4.5 in /home/tranhuy/Desktop/Project/cantho-public-services/.venv/lib/python3.10/site-packages (from aiohttp<4.0,>=3.0->cohere) (6.0.4)\n",
      "Requirement already satisfied: yarl<2.0,>=1.0 in /home/tranhuy/Desktop/Project/cantho-public-services/.venv/lib/python3.10/site-packages (from aiohttp<4.0,>=3.0->cohere) (1.9.4)\n",
      "Requirement already satisfied: frozenlist>=1.1.1 in /home/tranhuy/Desktop/Project/cantho-public-services/.venv/lib/python3.10/site-packages (from aiohttp<4.0,>=3.0->cohere) (1.4.1)\n",
      "Requirement already satisfied: aiosignal>=1.1.2 in /home/tranhuy/Desktop/Project/cantho-public-services/.venv/lib/python3.10/site-packages (from aiohttp<4.0,>=3.0->cohere) (1.3.1)\n",
      "Requirement already satisfied: async-timeout<5.0,>=4.0 in /home/tranhuy/Desktop/Project/cantho-public-services/.venv/lib/python3.10/site-packages (from aiohttp<4.0,>=3.0->cohere) (4.0.3)\n",
      "Requirement already satisfied: zipp>=0.5 in /home/tranhuy/Desktop/Project/cantho-public-services/.venv/lib/python3.10/site-packages (from importlib_metadata<7.0,>=6.0->cohere) (3.17.0)\n",
      "Requirement already satisfied: charset-normalizer<4,>=2 in /home/tranhuy/Desktop/Project/cantho-public-services/.venv/lib/python3.10/site-packages (from requests<3.0.0,>=2.25.0->cohere) (3.3.2)\n",
      "Requirement already satisfied: idna<4,>=2.5 in /home/tranhuy/Desktop/Project/cantho-public-services/.venv/lib/python3.10/site-packages (from requests<3.0.0,>=2.25.0->cohere) (3.6)\n",
      "Requirement already satisfied: certifi>=2017.4.17 in /home/tranhuy/Desktop/Project/cantho-public-services/.venv/lib/python3.10/site-packages (from requests<3.0.0,>=2.25.0->cohere) (2023.11.17)\n",
      "Downloading cohere-4.40-py3-none-any.whl (51 kB)\n",
      "\u001b[2K   \u001b[90m━━━━━━━━━━━━━━━━━━━━━━━━━━━━━━━━━━━━━━━━\u001b[0m \u001b[32m51.7/51.7 kB\u001b[0m \u001b[31m786.1 kB/s\u001b[0m eta \u001b[36m0:00:00\u001b[0m:01\u001b[0m0:00:01\u001b[0m\n",
      "\u001b[?25hDownloading fastavro-1.9.2-cp310-cp310-manylinux_2_17_x86_64.manylinux2014_x86_64.whl (3.1 MB)\n",
      "\u001b[2K   \u001b[90m━━━━━━━━━━━━━━━━━━━━━━━━━━━━━━━━━━━━━━━━\u001b[0m \u001b[32m3.1/3.1 MB\u001b[0m \u001b[31m839.8 kB/s\u001b[0m eta \u001b[36m0:00:00\u001b[0m00:01\u001b[0m00:01\u001b[0m\n",
      "\u001b[?25hInstalling collected packages: fastavro, cohere\n",
      "Successfully installed cohere-4.40 fastavro-1.9.2\n"
     ]
    }
   ],
   "source": [
    "! pip install cohere"
   ]
  },
  {
   "cell_type": "code",
   "execution_count": 1,
   "metadata": {},
   "outputs": [],
   "source": [
    "from langchain_community.document_transformers import (\n",
    "    LongContextReorder,\n",
    ")\n",
    "from langchain.vectorstores import Chroma\n",
    "from langchain.text_splitter import RecursiveCharacterTextSplitter, CharacterTextSplitter\n",
    "from langchain.document_loaders import TextLoader\n",
    "from langchain.embeddings import HuggingFaceEmbeddings\n",
    "from langchain.storage import InMemoryStore\n",
    "from langchain.retrievers.document_compressors import CohereRerank\n",
    "import os"
   ]
  },
  {
   "cell_type": "code",
   "execution_count": 2,
   "metadata": {},
   "outputs": [
    {
     "name": "stderr",
     "output_type": "stream",
     "text": [
      "/home/tranhuy/Desktop/Project/cantho-public-services/.venv/lib/python3.10/site-packages/tqdm/auto.py:21: TqdmWarning: IProgress not found. Please update jupyter and ipywidgets. See https://ipywidgets.readthedocs.io/en/stable/user_install.html\n",
      "  from .autonotebook import tqdm as notebook_tqdm\n"
     ]
    }
   ],
   "source": [
    "HF_EMBEDDING = HuggingFaceEmbeddings(model_name=\"keepitreal/vietnamese-sbert\")\n",
    "text_splitter = CharacterTextSplitter(\n",
    "    separator=\"\\n\\n\",\n",
    "    chunk_size=1,\n",
    "    chunk_overlap=0,\n",
    ")\n",
    "\n",
    "vectorstore = Chroma(persist_directory=\"./data\" ,embedding_function=HF_EMBEDDING)"
   ]
  },
  {
   "cell_type": "code",
   "execution_count": null,
   "metadata": {},
   "outputs": [],
   "source": [
    "vectorstore.similarity_search()"
   ]
  },
  {
   "cell_type": "code",
   "execution_count": 1,
   "metadata": {},
   "outputs": [
    {
     "ename": "NameError",
     "evalue": "name 'vectorstore' is not defined",
     "output_type": "error",
     "traceback": [
      "\u001b[0;31m---------------------------------------------------------------------------\u001b[0m",
      "\u001b[0;31mNameError\u001b[0m                                 Traceback (most recent call last)",
      "Cell \u001b[0;32mIn[1], line 1\u001b[0m\n\u001b[0;32m----> 1\u001b[0m retriever \u001b[38;5;241m=\u001b[39m \u001b[43mvectorstore\u001b[49m\u001b[38;5;241m.\u001b[39mas_retriever(search_kwargs\u001b[38;5;241m=\u001b[39m{\u001b[38;5;124m\"\u001b[39m\u001b[38;5;124mk\u001b[39m\u001b[38;5;124m\"\u001b[39m: \u001b[38;5;241m10\u001b[39m})\n\u001b[1;32m      2\u001b[0m question \u001b[38;5;241m=\u001b[39m \u001b[38;5;124m\"\u001b[39m\u001b[38;5;124mthủ tục đăng ký lại giấy chứng sinh cho con cần làm giấy tờ gì không?\u001b[39m\u001b[38;5;124m\"\u001b[39m\n\u001b[1;32m      3\u001b[0m docs \u001b[38;5;241m=\u001b[39m retriever\u001b[38;5;241m.\u001b[39mget_relevant_documents(question)\n",
      "\u001b[0;31mNameError\u001b[0m: name 'vectorstore' is not defined"
     ]
    }
   ],
   "source": [
    "retriever = vectorstore.as_retriever(search_kwargs={\"k\": 10})\n",
    "question = \"thủ tục đăng ký lại giấy chứng sinh cho con cần làm giấy tờ gì không?\"\n",
    "docs = retriever.get_relevant_documents(question)\n",
    "docs"
   ]
  },
  {
   "cell_type": "code",
   "execution_count": 4,
   "metadata": {},
   "outputs": [
    {
     "data": {
      "text/plain": [
       "9141"
      ]
     },
     "execution_count": 4,
     "metadata": {},
     "output_type": "execute_result"
    }
   ],
   "source": [
    "tokens = 0\n",
    "for doc in docs:\n",
    "    tokens += len(doc.page_content.split(\" \"))\n",
    "tokens"
   ]
  },
  {
   "cell_type": "code",
   "execution_count": 11,
   "metadata": {},
   "outputs": [
    {
     "ename": "NotImplementedError",
     "evalue": "",
     "output_type": "error",
     "traceback": [
      "\u001b[0;31m---------------------------------------------------------------------------\u001b[0m",
      "\u001b[0;31mNotImplementedError\u001b[0m                       Traceback (most recent call last)",
      "Cell \u001b[0;32mIn[11], line 2\u001b[0m\n\u001b[1;32m      1\u001b[0m reordering \u001b[38;5;241m=\u001b[39m LongContextReorder()\n\u001b[0;32m----> 2\u001b[0m reordered_docs \u001b[38;5;241m=\u001b[39m \u001b[38;5;28;01mawait\u001b[39;00m reordering\u001b[38;5;241m.\u001b[39matransform_documents(docs)    \n\u001b[1;32m      3\u001b[0m reordered_docs\n",
      "File \u001b[0;32m~/Desktop/Project/cantho-public-services/.venv/lib/python3.10/site-packages/langchain_community/document_transformers/long_context_reorder.py:43\u001b[0m, in \u001b[0;36mLongContextReorder.atransform_documents\u001b[0;34m(self, documents, **kwargs)\u001b[0m\n\u001b[1;32m     40\u001b[0m \u001b[38;5;28;01masync\u001b[39;00m \u001b[38;5;28;01mdef\u001b[39;00m \u001b[38;5;21matransform_documents\u001b[39m(\n\u001b[1;32m     41\u001b[0m     \u001b[38;5;28mself\u001b[39m, documents: Sequence[Document], \u001b[38;5;241m*\u001b[39m\u001b[38;5;241m*\u001b[39mkwargs: Any\n\u001b[1;32m     42\u001b[0m ) \u001b[38;5;241m-\u001b[39m\u001b[38;5;241m>\u001b[39m Sequence[Document]:\n\u001b[0;32m---> 43\u001b[0m     \u001b[38;5;28;01mraise\u001b[39;00m \u001b[38;5;167;01mNotImplementedError\u001b[39;00m\n",
      "\u001b[0;31mNotImplementedError\u001b[0m: "
     ]
    }
   ],
   "source": [
    "reordering = LongContextReorder()\n",
    "reordered_docs = reordering.transform_documents(docs)\n",
    "reordered_docs"
   ]
  },
  {
   "cell_type": "code",
   "execution_count": null,
   "metadata": {},
   "outputs": [],
   "source": [
    "from langchain.retrievers import ContextualCompressionRetriever\n",
    "from langchain.retrievers.document_compressors import CohereRerank\n",
    "from langchain_community.llms import OpenAI\n",
    "import os\n",
    "\n",
    "os.environ[\"COHERE_API_KEY\"] = \"\"\n",
    "CohereRerank.update_forward_refs()\n",
    "compressor = CohereRerank()\n",
    "compression_retriever = ContextualCompressionRetriever(\n",
    "    base_compressor=compressor, base_retriever=retriever\n",
    ")\n",
    "\n",
    "compressed_docs = compression_retriever.get_relevant_documents(\n",
    "    question\n",
    ")"
   ]
  },
  {
   "cell_type": "code",
   "execution_count": 8,
   "metadata": {},
   "outputs": [
    {
     "data": {
      "text/plain": [
       "[tensor([[0.6163]]),\n",
       " tensor([[0.7035]]),\n",
       " tensor([[0.6295]]),\n",
       " tensor([[0.5296]]),\n",
       " tensor([[0.6608]]),\n",
       " tensor([[0.6041]]),\n",
       " tensor([[0.5875]]),\n",
       " tensor([[0.6888]]),\n",
       " tensor([[0.6688]]),\n",
       " tensor([[0.6357]])]"
      ]
     },
     "execution_count": 8,
     "metadata": {},
     "output_type": "execute_result"
    }
   ],
   "source": [
    "# Reranking by the prompt template\n",
    "from sentence_transformers.util import cos_sim\n",
    "scores = []\n",
    "question_embedding = HF_EMBEDDING.embed_query(question)\n",
    "for doc in reordered_docs:\n",
    "    embedding = HF_EMBEDDING.embed_query(doc.page_content.split(\":\")[0])\n",
    "    score = cos_sim(question_embedding, embedding)\n",
    "    scores.append(score)\n",
    "scores"
   ]
  }
 ],
 "metadata": {
  "kernelspec": {
   "display_name": ".venv",
   "language": "python",
   "name": "python3"
  },
  "language_info": {
   "codemirror_mode": {
    "name": "ipython",
    "version": 3
   },
   "file_extension": ".py",
   "mimetype": "text/x-python",
   "name": "python",
   "nbconvert_exporter": "python",
   "pygments_lexer": "ipython3",
   "version": "3.10.12"
  }
 },
 "nbformat": 4,
 "nbformat_minor": 2
}
